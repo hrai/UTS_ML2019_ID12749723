{
  "nbformat": 4,
  "nbformat_minor": 0,
  "metadata": {
    "colab": {
      "name": "A1.ipynb",
      "version": "0.3.2",
      "provenance": [],
      "include_colab_link": true
    },
    "kernelspec": {
      "name": "python3",
      "display_name": "Python 3"
    }
  },
  "cells": [
    {
      "cell_type": "markdown",
      "metadata": {
        "id": "view-in-github",
        "colab_type": "text"
      },
      "source": [
        "<a href=\"https://colab.research.google.com/github/hrai/UTS_ML2019_ID12749723/blob/master/A1.ipynb\" target=\"_parent\"><img src=\"https://colab.research.google.com/assets/colab-badge.svg\" alt=\"Open In Colab\"/></a>"
      ]
    },
    {
      "cell_type": "markdown",
      "metadata": {
        "id": "g89otovIo2CW",
        "colab_type": "text"
      },
      "source": [
        "# Assignment 1 (12749723)"
      ]
    },
    {
      "cell_type": "markdown",
      "metadata": {
        "id": "OvreIrgyoyKf",
        "colab_type": "text"
      },
      "source": [
        "## Title - Support-Vector Networks"
      ]
    },
    {
      "cell_type": "markdown",
      "metadata": {
        "id": "P6kEP8T_Kat9",
        "colab_type": "text"
      },
      "source": [
        "## Introduction\n",
        "\n"
      ]
    },
    {
      "cell_type": "markdown",
      "metadata": {
        "id": "rG-uIo7eKfYt",
        "colab_type": "text"
      },
      "source": [
        "## Content"
      ]
    },
    {
      "cell_type": "markdown",
      "metadata": {
        "id": "5fXzzyV5Klu6",
        "colab_type": "text"
      },
      "source": [
        "## Innovation\n"
      ]
    },
    {
      "cell_type": "markdown",
      "metadata": {
        "id": "XUjIycLkKpH7",
        "colab_type": "text"
      },
      "source": [
        "## Technical quality\n"
      ]
    },
    {
      "cell_type": "markdown",
      "metadata": {
        "id": "iBsAJeUZKsD5",
        "colab_type": "text"
      },
      "source": [
        "## Application and X-factor\n",
        "\n"
      ]
    },
    {
      "cell_type": "markdown",
      "metadata": {
        "id": "bZwzobW_KvXi",
        "colab_type": "text"
      },
      "source": [
        "## Presentation\n"
      ]
    },
    {
      "cell_type": "markdown",
      "metadata": {
        "id": "ii5pPp-QKxtc",
        "colab_type": "text"
      },
      "source": [
        "## References\n"
      ]
    }
  ]
}