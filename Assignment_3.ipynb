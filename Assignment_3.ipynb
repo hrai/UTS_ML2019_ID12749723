{
  "nbformat": 4,
  "nbformat_minor": 0,
  "metadata": {
    "colab": {
      "name": "Assignment 3.ipynb",
      "provenance": [],
      "include_colab_link": true
    },
    "kernelspec": {
      "name": "python3",
      "display_name": "Python 3"
    }
  },
  "cells": [
    {
      "cell_type": "markdown",
      "metadata": {
        "id": "view-in-github",
        "colab_type": "text"
      },
      "source": [
        "<a href=\"https://colab.research.google.com/github/hrai/UTS_ML2019_ID12749723/blob/master/Assignment_3.ipynb\" target=\"_parent\"><img src=\"https://colab.research.google.com/assets/colab-badge.svg\" alt=\"Open In Colab\"/></a>"
      ]
    },
    {
      "cell_type": "markdown",
      "metadata": {
        "id": "Oor9rCSB4jq2",
        "colab_type": "text"
      },
      "source": [
        "# Domain’s Property Price Estimator based on Regression Machine Learning Algorithm\n",
        "\n",
        "\n",
        "Hangjit Rai\n",
        "\n",
        "12749723\n"
      ]
    },
    {
      "cell_type": "markdown",
      "metadata": {
        "id": "fYDLOKzE5CRf",
        "colab_type": "text"
      },
      "source": [
        "##Introduction\n",
        "Machine learning uses computer algorithms to create models from input data and uses it to predict on new datasets. There are a few different types of machine learning algorithms like neural networks, classification, regression etc. (Lu et al. 2017). Regression is a specific type of Machine Learning (ML) technique that outputs a numeric value when a number of variables are provided. Some examples of regression algorithms support vector machines (SVM), gradient boosting and random forest.\n",
        "\n",
        "Building a model of solar house price prediction is a complex process. The house price can be determined by its location, size, house type, population, interest rate, tax etc. (Lu et al. 2017). This proposal will detail the usage of ML algorithm to create a model that will predict the price of the property. This product will be a new offering of Domain Group in addition to the existing property portal.\n"
      ]
    },
    {
      "cell_type": "markdown",
      "metadata": {
        "id": "aj-ugzWz55NO",
        "colab_type": "text"
      },
      "source": [
        "##Aims"
      ]
    },
    {
      "cell_type": "markdown",
      "metadata": {
        "id": "X50AxKar5OTZ",
        "colab_type": "text"
      },
      "source": [
        "The aim of this project is to create a system that will help buyers and sellers estimate the value of a property in Australia. In order to develop a model that outputs an estimated price when physical attributes like number of bedrooms, bathrooms, total area etc. and other factors like council rates etc. are provided, a technique called regression analysis will need to be employed. \n",
        "The relationship between the response variable (house price) and predictor variables (physical attributes and tax rates) are established by a mathematical equation in regression analysis (Chatterjee & Hadi 2012). In this case, the ML model will output the house price. \n",
        "\n",
        "The main aim can be broken down into the following objectives:\n",
        "\n",
        "1. Collect data about properties within Australia\n",
        "2. Develop models using several regression algorithms from the training data\n",
        "3. Analyse the data and measure accuracy of the chosen dataset\n",
        "4. Deploy the solution\n"
      ]
    },
    {
      "cell_type": "markdown",
      "metadata": {
        "id": "Lmv6Od6Y5znm",
        "colab_type": "text"
      },
      "source": [
        "##Background"
      ]
    },
    {
      "cell_type": "markdown",
      "metadata": {
        "id": "Oo6otjIm52LV",
        "colab_type": "text"
      },
      "source": [
        "Real estate industrial was one of the early adopters of machine learning technologies. A number of researchers have been deducted conducted for price prediction of properties. Xiaoli & Jianguo (2004) outline the disadvantages of artificial neural network model as the precision of the model can be limited. Also, the training time is slow and even more so for models with back propagation. Neural networks are basically a black-box of synapses of neurons. This makes it harder to identify the learning mechanism of the model and to understand what is learnt and what it can forget.\n",
        "\n",
        "\n",
        "Some of the studies conducted do outline the correlation between housing parameters and the price are discussed below:\n",
        "\n",
        "Lu et al. (2017) mention that house price index summarises all the transactions and is thus, incapable of predicting a specific house price.\n",
        "\n",
        "Jirong, Zhu & Jiang (2011) proposed a G-SVM prediction algorithm based on genetic model for predicting house price by picking selective parameters.\n",
        "Piao, Chen & Shang (2019) used a Convolutional Neural Network to create a model that outperformed XGBoost in terms of accuracy score.\n",
        "\n",
        "Holly, Pesaran & Yamagata (2010) studied the correlation between house prices and macroeconomics, population growth, disposable income, borrowing cost and spatial factors.\n",
        "\n",
        "Helbich et al. (2013) proposed a Mixed geographically weighted regression model to reduce prediction errors.\n",
        "\n",
        "Alexander & William (2017) also found that renovated properties have their values shoot up by almost 15% in central parts of large cities whereas the projection was much less in smaller cities.\n"
      ]
    },
    {
      "cell_type": "markdown",
      "metadata": {
        "id": "pIvjr-V86SUV",
        "colab_type": "text"
      },
      "source": [
        "##Research project"
      ]
    },
    {
      "cell_type": "markdown",
      "metadata": {
        "id": "pjxcDnWx6cmc",
        "colab_type": "text"
      },
      "source": [
        "###Significance"
      ]
    },
    {
      "cell_type": "markdown",
      "metadata": {
        "id": "VUNgOiNt6f4L",
        "colab_type": "text"
      },
      "source": [
        "Real estate is a multi-billion dollar industry in Australia and Domain remains as one of the oldest and biggest players in this industry. Real estate agents need to keep abreast of the current property trends. Understanding the price of different properties give agents ability to provide the right information to the buyer's and sellers alike. \n",
        "\n",
        "Savvy buyers investigate before they make offers on properties. If users are able to find reasonably valued properties they will be able to purchase and their confidence in the product also rises. \n",
        "\n",
        "On the other hand, a property price estimator tool will provide sellers useful information about similar properties before approaching the real estate agents. Being self educated increases the chances of sellers being able to get a good value for the property.\n",
        "\n",
        "Above all, the buyers, sellers and agents get to complete the purchase transaction while being satisfied that the property valuation was correct.\n",
        "\n",
        "Wiggers (2019) reported that Zillow had awarded the winners of a Kaggle competition that reduced the error of a house price valuation algorithm to below 4%. The company will incorporate the winning algorithm into their Zestimate model which is one of their products. This reinforces the value of the proposed solution to create an estimation model that can outperform any products on the market and give an edge to Domain.\n"
      ]
    },
    {
      "cell_type": "markdown",
      "metadata": {
        "id": "0uEJSlkH6ugd",
        "colab_type": "text"
      },
      "source": [
        "###Innovation"
      ]
    },
    {
      "cell_type": "markdown",
      "metadata": {
        "id": "cGRT6ypV6w57",
        "colab_type": "text"
      },
      "source": [
        "I was looking to purchase a property a few months ago. As a buyer, I felt like there was a gap in what the properties are advertised for and what it is actually worth. A property estimator tool will be able to fill in this gap and enable buyers to perform their due diligence before putting down the deposit. It has a very high likelihood of taking Domain’s listings module to another level and convert the users to repeat customers of the platform.\n"
      ]
    },
    {
      "cell_type": "markdown",
      "metadata": {
        "id": "moOUL1s96y_8",
        "colab_type": "text"
      },
      "source": [
        "###Breakdown of tasks"
      ]
    },
    {
      "cell_type": "markdown",
      "metadata": {
        "id": "YiO9qVXf7WWM",
        "colab_type": "text"
      },
      "source": [
        "The main tasks in an ML development project are listed below:\n",
        "\n",
        "1. Data collection and labelling\n",
        "2. Model exploration\n",
        "3. Model refinement\n",
        "4. Debugging model\n",
        "5. Evaluation\n",
        "6. Deployment\n",
        "7. Monitoring and maintenance\n"
      ]
    }
  ]
}