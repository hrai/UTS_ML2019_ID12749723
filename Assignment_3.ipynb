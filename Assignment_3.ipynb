{
  "nbformat": 4,
  "nbformat_minor": 0,
  "metadata": {
    "colab": {
      "name": "Assignment 3.ipynb",
      "provenance": [],
      "include_colab_link": true
    },
    "kernelspec": {
      "name": "python3",
      "display_name": "Python 3"
    }
  },
  "cells": [
    {
      "cell_type": "markdown",
      "metadata": {
        "id": "view-in-github",
        "colab_type": "text"
      },
      "source": [
        "<a href=\"https://colab.research.google.com/github/hrai/UTS_ML2019_ID12749723/blob/master/Assignment_3.ipynb\" target=\"_parent\"><img src=\"https://colab.research.google.com/assets/colab-badge.svg\" alt=\"Open In Colab\"/></a>"
      ]
    },
    {
      "cell_type": "markdown",
      "metadata": {
        "id": "Oor9rCSB4jq2",
        "colab_type": "text"
      },
      "source": [
        "# Domain’s Property Price Estimator based on Regression Machine Learning Algorithm\n",
        "\n",
        "\n",
        "***Hangjit Rai***\n",
        "\n",
        "*12749723*\n"
      ]
    },
    {
      "cell_type": "markdown",
      "metadata": {
        "id": "fYDLOKzE5CRf",
        "colab_type": "text"
      },
      "source": [
        "##Introduction\n",
        "Machine learning uses computer algorithms to create models from input data and uses it to predict on new datasets. There are a few different types of machine learning algorithms like neural networks, classification, regression etc. (Lu et al. 2017). Regression is a specific type of Machine Learning (ML) technique that outputs a numeric value when a number of variables are provided. Some examples of regression algorithms support vector machines (SVM), gradient boosting and random forest.\n",
        "\n",
        "Building a model of solar house price prediction is a complex process. The house price can be determined by its location, size, house type, population, interest rate, tax etc. (Lu et al. 2017). This proposal will detail the usage of ML algorithm to create a model that will predict the price of the property. This product will be a new offering of Domain Group in addition to the existing property portal.\n"
      ]
    },
    {
      "cell_type": "markdown",
      "metadata": {
        "id": "aj-ugzWz55NO",
        "colab_type": "text"
      },
      "source": [
        "##Aims"
      ]
    },
    {
      "cell_type": "markdown",
      "metadata": {
        "id": "X50AxKar5OTZ",
        "colab_type": "text"
      },
      "source": [
        "The aim of this project is to create a system that will help buyers and sellers estimate the value of a property in Australia. In order to develop a model that outputs an estimated price when physical attributes like number of bedrooms, bathrooms, total area etc. and other factors like council rates etc. are provided, a technique called regression analysis will need to be employed. \n",
        "The relationship between the response variable (house price) and predictor variables (physical attributes and tax rates) are established by a mathematical equation in regression analysis (Chatterjee & Hadi 2012). In this case, the ML model will output the house price. \n",
        "\n",
        "The main aim can be broken down into the following objectives:\n",
        "\n",
        "1. Collect data about properties within Australia\n",
        "2. Develop models using several regression algorithms from the training data\n",
        "3. Analyse the data and measure accuracy of the chosen dataset\n",
        "4. Deploy the solution\n"
      ]
    },
    {
      "cell_type": "markdown",
      "metadata": {
        "id": "Lmv6Od6Y5znm",
        "colab_type": "text"
      },
      "source": [
        "##Background"
      ]
    },
    {
      "cell_type": "markdown",
      "metadata": {
        "id": "Oo6otjIm52LV",
        "colab_type": "text"
      },
      "source": [
        "Real estate industrial was one of the early adopters of machine learning technologies. A number of researchers have been deducted conducted for price prediction of properties. Xiaoli & Jianguo (2004) outline the disadvantages of artificial neural network model as the precision of the model can be limited. Also, the training time is slow and even more so for models with back propagation. Neural networks are basically a black-box of synapses of neurons. This makes it harder to identify the learning mechanism of the model and to understand what is learnt and what it can forget.\n",
        "\n",
        "\n",
        "Some of the studies conducted do outline the correlation between housing parameters and the price are discussed below:\n",
        "\n",
        "Lu et al. (2017) mention that house price index summarises all the transactions and is thus, incapable of predicting a specific house price.\n",
        "\n",
        "Jirong, Zhu & Jiang (2011) proposed a G-SVM prediction algorithm based on genetic model for predicting house price by picking selective parameters.\n",
        "Piao, Chen & Shang (2019) used a Convolutional Neural Network to create a model that outperformed XGBoost in terms of accuracy score.\n",
        "\n",
        "Holly, Pesaran & Yamagata (2010) studied the correlation between house prices and macroeconomics, population growth, disposable income, borrowing cost and spatial factors.\n",
        "\n",
        "Helbich et al. (2013) proposed a Mixed geographically weighted regression model to reduce prediction errors.\n",
        "\n",
        "Alexander & William (2017) also found that renovated properties have their values shoot up by almost 15% in central parts of large cities whereas the projection was much less in smaller cities.\n"
      ]
    },
    {
      "cell_type": "markdown",
      "metadata": {
        "id": "pIvjr-V86SUV",
        "colab_type": "text"
      },
      "source": [
        "##Research project"
      ]
    },
    {
      "cell_type": "markdown",
      "metadata": {
        "id": "pjxcDnWx6cmc",
        "colab_type": "text"
      },
      "source": [
        "###Significance"
      ]
    },
    {
      "cell_type": "markdown",
      "metadata": {
        "id": "VUNgOiNt6f4L",
        "colab_type": "text"
      },
      "source": [
        "Real estate is a multi-billion dollar industry in Australia and Domain remains as one of the oldest and biggest players in this industry. Real estate agents need to keep abreast of the current property trends. Understanding the price of different properties give agents ability to provide the right information to the buyer's and sellers alike. \n",
        "\n",
        "Savvy buyers investigate before they make offers on properties. If users are able to find reasonably valued properties they will be able to purchase and their confidence in the product also rises. \n",
        "\n",
        "On the other hand, a property price estimator tool will provide sellers useful information about similar properties before approaching the real estate agents. Being self educated increases the chances of sellers being able to get a good value for the property.\n",
        "\n",
        "Above all, the buyers, sellers and agents get to complete the purchase transaction while being satisfied that the property valuation was correct.\n",
        "\n",
        "Wiggers (2019) reported that Zillow had awarded the winners of a Kaggle competition that reduced the error of a house price valuation algorithm to below 4%. The company will incorporate the winning algorithm into their Zestimate model which is one of their products. This reinforces the value of the proposed solution to create an estimation model that can outperform any products on the market and give an edge to Domain.\n"
      ]
    },
    {
      "cell_type": "markdown",
      "metadata": {
        "id": "0uEJSlkH6ugd",
        "colab_type": "text"
      },
      "source": [
        "###Innovation"
      ]
    },
    {
      "cell_type": "markdown",
      "metadata": {
        "id": "cGRT6ypV6w57",
        "colab_type": "text"
      },
      "source": [
        "I was looking to purchase a property a few months ago. As a buyer, I felt like there was a gap in what the properties are advertised for and what it is actually worth. A property estimator tool will be able to fill in this gap and enable buyers to perform their due diligence before putting down the deposit. It has a very high likelihood of taking Domain’s listings module to another level and convert the users to repeat customers of the platform.\n"
      ]
    },
    {
      "cell_type": "markdown",
      "metadata": {
        "id": "moOUL1s96y_8",
        "colab_type": "text"
      },
      "source": [
        "###Breakdown of tasks"
      ]
    },
    {
      "cell_type": "markdown",
      "metadata": {
        "id": "YiO9qVXf7WWM",
        "colab_type": "text"
      },
      "source": [
        "The main tasks in an ML development project are listed below:\n",
        "\n",
        "1. Data collection and labelling\n",
        "2. Model exploration\n",
        "3. Model refinement\n",
        "4. Debugging model\n",
        "5. Evaluation\n",
        "6. Deployment\n",
        "7. Monitoring and maintenance\n"
      ]
    },
    {
      "cell_type": "markdown",
      "metadata": {
        "id": "YTwo1UfQ8WGH",
        "colab_type": "text"
      },
      "source": [
        "Python will be the language of choice. There are a number of libraries and tools available for free. Examples include scikit-learn, numpy, pandas, matplotlib, seaborn etc. to name a few. The following steps will be undertaken to create a model for predicting the house price.\n",
        "\n",
        "1.  Collect data - Data collection will be done by extracting the information from Domain API endpoints which are publicly available.\n",
        "2.  Explore data - Python libraries\n",
        "3.  Split data into train and test sets (80:20 ratio)\n",
        "4.  Define model - A predefined model will be used for this project. Scikit-Learn, a python library provides a number of supervised learning regression algorithms that can be used out of the box. Some of the examples include Naive Bayes, Support Vector Machines, Nearest Neighbours etc.\n",
        "5.  Train model - It is common to select a number of models and evaluate them in conjunction and select the best performing model.\n",
        "6.  Analyse the results - The quality of a trained model is usually measured by calculating the Root Mean Squared Error (RMSE) which is a measure of the standard deviation of the appraisals from the regression line (Ghosalkar & Dhage 2018).\n",
        "7.  If there’s high bias, either choose a different optimisation algorithm or train the same model longer.\n",
        "8.  If there’s high variance, add more data to the dataset and restart the process.\n",
        "9.  Deploy the model - The model will be deployed with a canary deployment process. In this process, a small percentage of the users will be exposed to the new feature. Depending on the feedback from this group, the feature will be rolled out to other users. The effectiveness as well as any potential warnings will be found early on having minimal impact to the users of the system.\n",
        "10.  Inspect the performance (accuracy and efficiency) of the model on real-life dataset\n",
        "11.  If the performance is low, add new entries to the original dataset and go back to the train step and follow through the process.\n"
      ]
    },
    {
      "cell_type": "markdown",
      "metadata": {
        "id": "4UODLOok9fnV",
        "colab_type": "text"
      },
      "source": [
        "<img src=\"https://github.com/hrai/UTS_ML2019_ID12749723/blob/master/flow-chart.jpg?raw=true\" width=\"500\"/>\n",
        "\n",
        "_Fig: Data analysis project lifecycle (Golge 2017)_"
      ]
    },
    {
      "cell_type": "markdown",
      "metadata": {
        "id": "SqNkier0-uJc",
        "colab_type": "text"
      },
      "source": [
        "###Gantt chart"
      ]
    },
    {
      "cell_type": "markdown",
      "metadata": {
        "id": "lxdn_ifrFQC6",
        "colab_type": "text"
      },
      "source": [
        "<img src=\"https://github.com/hrai/UTS_ML2019_ID12749723/blob/master/gantt.png?raw=true\" width=\"500\"/>\n",
        "\n",
        "_Fig: Gantt chart for the project (Oct, 2019 - Sept,2020)_"
      ]
    },
    {
      "cell_type": "markdown",
      "metadata": {
        "id": "k1raUYEX-wzL",
        "colab_type": "text"
      },
      "source": [
        "###Outcome and benefits\n",
        "When the data has been collected and used to train a model using predictive regression algorithms, the solution will be integrated into the property portal of Domain. Before the solution is deployed in production, it will undergo a rigorous process of evaluation and testing. The predictive analysis model will be used as a new feature set. This feature will be available to agencies as well as buyers. A beta version will be released to gauge the customer engagement before it is released to the rest of the users.\n",
        "\n",
        "There is a huge potential for this untappd portion of the market. Big corporations are already investing a lot of resources in other countries. Being able to offer a product that does predictive price for casting off a property has been well received overseas and will definitely follow suit in Australia as well. This product can be used to generate revenue and a quick return-on-investment.\n"
      ]
    },
    {
      "cell_type": "markdown",
      "metadata": {
        "id": "Qln8TZOt-3aK",
        "colab_type": "text"
      },
      "source": [
        "##Budget"
      ]
    },
    {
      "cell_type": "markdown",
      "metadata": {
        "id": "XzOOImJ5-5SS",
        "colab_type": "text"
      },
      "source": [
        "Item/Resources | Time | Cost\n",
        "--- | --- | ---\n",
        "Cloud Infrastructure | --- | \\$40,000.00\n",
        "Hardware | --- | \\$20,000.00\n",
        "Software | --- | \\$20,000.00\n",
        "Business analyst | 6 months |\t\\$100,000.00\n",
        "Solution architect | 2 months |\t\\$20,000.00\n",
        "Data analyst |\t12 months |\t\\$90,000.00\n",
        "Data scientist | 12 months |\t\\$120,000.00\n",
        "Data engineer/devops (part time) |\t6 months |\t\\$90,000.00\n",
        "__Total__ | |\t\t__\\$500,000.00__\n"
      ]
    },
    {
      "cell_type": "markdown",
      "metadata": {
        "id": "vVpRtFZtCbZz",
        "colab_type": "text"
      },
      "source": [
        "##Personnel"
      ]
    },
    {
      "cell_type": "markdown",
      "metadata": {
        "id": "u7hA5eBtCdia",
        "colab_type": "text"
      },
      "source": [
        "The following resources are needed for successful execution of the project. \n",
        "\n",
        "Business analyst - matching problem to solution; managing project\n",
        "Solution architect - devising a solution\n",
        "Data analyst - data collection, data exploration/visualization\n",
        "Data scientist - data selection, preprocessing, cleaning, transformation; data splitting; modelling (training and evaluation); \n",
        "Data engineer/devops - deployment and integration; monitoring\n"
      ]
    },
    {
      "cell_type": "markdown",
      "metadata": {
        "id": "9vvziaU0CgDr",
        "colab_type": "text"
      },
      "source": [
        "##References"
      ]
    },
    {
      "cell_type": "markdown",
      "metadata": {
        "id": "9hhIhkI4CjqF",
        "colab_type": "text"
      },
      "source": [
        "\n",
        "Alexander, N.B. & William, M.D. 2017, Property Renovations and Their Impact on House Price Index Construction, Federal Housing Finance Agency.\n",
        "\n",
        "Chatterjee, S. & Hadi, A.S. 2012, Regression Analysis by Example, 5 edn, Wiley.\n",
        "\n",
        "Ghosalkar, N.N. & Dhage, S.N. 2018, 'Real Estate Value Prediction Using Linear Regression', 2018 Fourth International Conference on Computing Communication Control and Automation (ICCUBEA), pp. 1-5.\n",
        "\n",
        "Golge, E. 2017, Designing a Deep Learning Project, Medium, viewed 07-10-2019 2019, <https://medium.com/@erogol/designing-a-deep-learning-project-9b3698aef127>.\n",
        "\n",
        "Helbich, M., Brunauer, W., Vaz, E. & Nijkamp, P. 2013, 'Spatial Heterogeneity in Hedonic House Price Models: The Case of Austria', Urban Studies, vol. 51, pp. 1–22.\n",
        "\n",
        "Holly, S., Pesaran, M.H. & Yamagata, T. 2010, 'A spatio-temporal model of house prices in the USA', Journal of Econometrics, vol. 158, no. 1, pp. 160-73.\n",
        "\n",
        "Jirong, G., Zhu, M. & Jiang, L. 2011, 'Housing price forecasting based on genetic algorithm and support vector machine', Expert Syst. Appl., vol. 38, pp. 3383-6.\n",
        "\n",
        "Lu, S., Li, Z., Qin, Z., Yang, X. & Goh, R.S.M. 2017, 'A hybrid regression technique for house prices prediction', 2017 IEEE International Conference on Industrial Engineering and Engineering Management (IEEM), pp. 319-23.\n",
        "\n",
        "Piao, Y., Chen, A. & Shang, Z. 2019, 'Housing Price Prediction Based on CNN', 2019 9th International Conference on Information Science and Technology (ICIST), pp. 491-5.\n",
        "\n",
        "Wiggers, K. 2019, Zillow awards $1 million to team that reduced home valuation algorithm error to below 4%, viewed 07-10-2019 2019, <https://venturebeat.com/2019/01/30/zillow-awards-1-million-to-team-that-reduced-home-valuation-algorithm-error-to-below-4/>.\n",
        "\n",
        "Xiaoli, Z. & Jianguo, L. 2004, 'Fuzzy neural networks with application to prediction of market prices of residential properties', Fifth World Congress on Intelligent Control and Automation (IEEE Cat. No.04EX788), vol. 3, pp. 1936-9 Vol.3.\n",
        "\n"
      ]
    },
    {
      "cell_type": "markdown",
      "metadata": {
        "id": "IVR57Ei1Chhi",
        "colab_type": "text"
      },
      "source": [
        "##Video pitch\n"
      ]
    },
    {
      "cell_type": "markdown",
      "metadata": {
        "id": "SWTs_LoV0HfV",
        "colab_type": "text"
      },
      "source": [
        "https://www.youtube.com/watch?v=tj0BtRUbz-Y"
      ]
    }
  ]
}