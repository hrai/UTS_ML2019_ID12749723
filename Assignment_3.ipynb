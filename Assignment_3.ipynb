{
  "nbformat": 4,
  "nbformat_minor": 0,
  "metadata": {
    "colab": {
      "name": "Assignment 3.ipynb",
      "provenance": [],
      "include_colab_link": true
    },
    "kernelspec": {
      "name": "python3",
      "display_name": "Python 3"
    }
  },
  "cells": [
    {
      "cell_type": "markdown",
      "metadata": {
        "id": "view-in-github",
        "colab_type": "text"
      },
      "source": [
        "<a href=\"https://colab.research.google.com/github/hrai/UTS_ML2019_ID12749723/blob/master/Assignment_3.ipynb\" target=\"_parent\"><img src=\"https://colab.research.google.com/assets/colab-badge.svg\" alt=\"Open In Colab\"/></a>"
      ]
    },
    {
      "cell_type": "markdown",
      "metadata": {
        "id": "Oor9rCSB4jq2",
        "colab_type": "text"
      },
      "source": [
        "# Domain’s Property Price Estimator based on Regression Machine Learning Algorithm\n",
        "\n",
        "\n",
        "Hangjit Rai\n",
        "\n",
        "12749723\n"
      ]
    },
    {
      "cell_type": "markdown",
      "metadata": {
        "id": "fYDLOKzE5CRf",
        "colab_type": "text"
      },
      "source": [
        "##Introduction\n",
        "Machine learning uses computer algorithms to create models from input data and uses it to predict on new datasets. There are a few different types of machine learning algorithms like neural networks, classification, regression etc. (Lu et al. 2017). Regression is a specific type of Machine Learning (ML) technique that outputs a numeric value when a number of variables are provided. Some examples of regression algorithms support vector machines (SVM), gradient boosting and random forest.\n",
        "\n",
        "Building a model of solar house price prediction is a complex process. The house price can be determined by its location, size, house type, population, interest rate, tax etc. (Lu et al. 2017). This proposal will detail the usage of ML algorithm to create a model that will predict the price of the property. This product will be a new offering of Domain Group in addition to the existing property portal.\n"
      ]
    },
    {
      "cell_type": "code",
      "metadata": {
        "id": "jRUM0uDe5KTm",
        "colab_type": "code",
        "colab": {}
      },
      "source": [
        "##Aims"
      ],
      "execution_count": 0,
      "outputs": []
    },
    {
      "cell_type": "markdown",
      "metadata": {
        "id": "X50AxKar5OTZ",
        "colab_type": "text"
      },
      "source": [
        "The aim of this project is to create a system that will help buyers and sellers estimate the value of a property in Australia. In order to develop a model that outputs an estimated price when physical attributes like number of bedrooms, bathrooms, total area etc. and other factors like council rates etc. are provided, a technique called regression analysis will need to be employed. \n",
        "The relationship between the response variable (house price) and predictor variables (physical attributes and tax rates) are established by a mathematical equation in regression analysis (Chatterjee & Hadi 2012). In this case, the ML model will output the house price. \n",
        "\n",
        "The main aim can be broken down into the following objectives:\n",
        "\n",
        "1. Collect data about properties within Australia\n",
        "2. Develop models using several regression algorithms from the training data\n",
        "3. Analyse the data and measure accuracy of the chosen dataset\n",
        "4. Deploy the solution\n"
      ]
    }
  ]
}